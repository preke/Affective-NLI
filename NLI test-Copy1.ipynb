{
 "cells": [
  {
   "cell_type": "code",
   "execution_count": 1,
   "id": "d8997642",
   "metadata": {},
   "outputs": [
    {
     "name": "stderr",
     "output_type": "stream",
     "text": [
      "/home/wenzhy/wenzhy/ENTER/envs/wen/lib/python3.9/site-packages/scipy/__init__.py:146: UserWarning: A NumPy version >=1.16.5 and <1.23.0 is required for this version of SciPy (detected version 1.23.1\n",
      "  warnings.warn(f\"A NumPy version >={np_minversion} and <{np_maxversion}\"\n",
      "/home/wenzhy/wenzhy/ENTER/envs/wen/lib/python3.9/site-packages/transformers/generation_utils.py:24: FutureWarning: Importing `GenerationMixin` from `src/transformers/generation_utils.py` is deprecated and will be removed in Transformers v5. Import as `from transformers import GenerationMixin` instead.\n",
      "  warnings.warn(\n"
     ]
    },
    {
     "data": {
      "text/html": [
       "<div>\n",
       "<style scoped>\n",
       "    .dataframe tbody tr th:only-of-type {\n",
       "        vertical-align: middle;\n",
       "    }\n",
       "\n",
       "    .dataframe tbody tr th {\n",
       "        vertical-align: top;\n",
       "    }\n",
       "\n",
       "    .dataframe thead th {\n",
       "        text-align: right;\n",
       "    }\n",
       "</style>\n",
       "<table border=\"1\" class=\"dataframe\">\n",
       "  <thead>\n",
       "    <tr style=\"text-align: right;\">\n",
       "      <th></th>\n",
       "      <th>sent</th>\n",
       "      <th>labels</th>\n",
       "      <th>emotions</th>\n",
       "      <th>dialog_state</th>\n",
       "      <th>origin_sent</th>\n",
       "      <th>personality_description</th>\n",
       "      <th>affective_prompt</th>\n",
       "    </tr>\n",
       "  </thead>\n",
       "  <tbody>\n",
       "    <tr>\n",
       "      <th>0</th>\n",
       "      <td>Speaker : what a coincidence; Speaker : the ca...</td>\n",
       "      <td>0</td>\n",
       "      <td>['neutral', 'neutral', 'neutral', 'neutral']</td>\n",
       "      <td>[1, 1, 0, 1]</td>\n",
       "      <td>Speaker : what a coincidence; Speaker : the ca...</td>\n",
       "      <td>Speaker is friendly, cooperative, empathetic, ...</td>\n",
       "      <td>The emotion of Speaker is initially neutral, S...</td>\n",
       "    </tr>\n",
       "    <tr>\n",
       "      <th>1</th>\n",
       "      <td>Speaker : right; Others : Your kids go to scho...</td>\n",
       "      <td>1</td>\n",
       "      <td>['neutral', 'neutral', 'neutral']</td>\n",
       "      <td>[1, 0, 1]</td>\n",
       "      <td>Speaker : right; Others : Your kids go to scho...</td>\n",
       "      <td>Speaker is friendly, cooperative, empathetic, ...</td>\n",
       "      <td>The emotion of Speaker is initially neutral, t...</td>\n",
       "    </tr>\n",
       "    <tr>\n",
       "      <th>2</th>\n",
       "      <td>Speaker : What a coincidence my son is here; S...</td>\n",
       "      <td>0</td>\n",
       "      <td>['neutral', 'neutral', 'neutral', 'neutral']</td>\n",
       "      <td>[1, 1, 0, 1]</td>\n",
       "      <td>Speaker : What a coincidence my son is here; S...</td>\n",
       "      <td>Speaker is friendly, cooperative, empathetic, ...</td>\n",
       "      <td>The emotion of Speaker is initially neutral, S...</td>\n",
       "    </tr>\n",
       "    <tr>\n",
       "      <th>3</th>\n",
       "      <td>Others : class three; Speaker : My son is also...</td>\n",
       "      <td>0</td>\n",
       "      <td>['neutral', 'neutral', 'neutral', 'neutral', '...</td>\n",
       "      <td>[0, 1, 1, 1, 0]</td>\n",
       "      <td>Others : class three; Speaker : My son is also...</td>\n",
       "      <td>Speaker is friendly, cooperative, empathetic, ...</td>\n",
       "      <td>First, the emotion of others is neutral, Speak...</td>\n",
       "    </tr>\n",
       "    <tr>\n",
       "      <th>4</th>\n",
       "      <td>Speaker : Ji Yangyang, it seems that I heard F...</td>\n",
       "      <td>0</td>\n",
       "      <td>['neutral', 'neutral', 'neutral', 'neutral', '...</td>\n",
       "      <td>[1, 1, 1, 0, 1]</td>\n",
       "      <td>Speaker : Ji Yangyang, it seems that I heard F...</td>\n",
       "      <td>Speaker is friendly, cooperative, empathetic, ...</td>\n",
       "      <td>The emotion of Speaker is initially neutral, S...</td>\n",
       "    </tr>\n",
       "  </tbody>\n",
       "</table>\n",
       "</div>"
      ],
      "text/plain": [
       "                                                sent  labels  \\\n",
       "0  Speaker : what a coincidence; Speaker : the ca...       0   \n",
       "1  Speaker : right; Others : Your kids go to scho...       1   \n",
       "2  Speaker : What a coincidence my son is here; S...       0   \n",
       "3  Others : class three; Speaker : My son is also...       0   \n",
       "4  Speaker : Ji Yangyang, it seems that I heard F...       0   \n",
       "\n",
       "                                            emotions     dialog_state  \\\n",
       "0       ['neutral', 'neutral', 'neutral', 'neutral']     [1, 1, 0, 1]   \n",
       "1                  ['neutral', 'neutral', 'neutral']        [1, 0, 1]   \n",
       "2       ['neutral', 'neutral', 'neutral', 'neutral']     [1, 1, 0, 1]   \n",
       "3  ['neutral', 'neutral', 'neutral', 'neutral', '...  [0, 1, 1, 1, 0]   \n",
       "4  ['neutral', 'neutral', 'neutral', 'neutral', '...  [1, 1, 1, 0, 1]   \n",
       "\n",
       "                                         origin_sent  \\\n",
       "0  Speaker : what a coincidence; Speaker : the ca...   \n",
       "1  Speaker : right; Others : Your kids go to scho...   \n",
       "2  Speaker : What a coincidence my son is here; S...   \n",
       "3  Others : class three; Speaker : My son is also...   \n",
       "4  Speaker : Ji Yangyang, it seems that I heard F...   \n",
       "\n",
       "                             personality_description  \\\n",
       "0  Speaker is friendly, cooperative, empathetic, ...   \n",
       "1  Speaker is friendly, cooperative, empathetic, ...   \n",
       "2  Speaker is friendly, cooperative, empathetic, ...   \n",
       "3  Speaker is friendly, cooperative, empathetic, ...   \n",
       "4  Speaker is friendly, cooperative, empathetic, ...   \n",
       "\n",
       "                                    affective_prompt  \n",
       "0  The emotion of Speaker is initially neutral, S...  \n",
       "1  The emotion of Speaker is initially neutral, t...  \n",
       "2  The emotion of Speaker is initially neutral, S...  \n",
       "3  First, the emotion of others is neutral, Speak...  \n",
       "4  The emotion of Speaker is initially neutral, S...  "
      ]
     },
     "execution_count": 1,
     "metadata": {},
     "output_type": "execute_result"
    }
   ],
   "source": [
    "import os\n",
    "os.environ[\"CUDA_VISIBLE_DEVICES\"] = '2,3'\n",
    "\n",
    "\n",
    "from openprompt.data_utils import InputExample\n",
    "\n",
    "\n",
    "import json\n",
    "import pandas as pd\n",
    "from datasets import load_dataset, Dataset, DatasetDict, Features, ClassLabel, Value\n",
    "\n",
    "from transformers import AutoTokenizer\n",
    "from transformers import DataCollatorWithPadding\n",
    "from transformers import TrainingArguments\n",
    "from transformers import AutoModelForSequenceClassification\n",
    "from transformers import Trainer, TrainerCallback\n",
    "import evaluate\n",
    "from datasets import load_metric\n",
    "import numpy as np\n",
    "import time\n",
    "\n",
    "\n",
    "\n",
    "\n",
    "SEED = 42\n",
    "\n",
    "df_data = pd.read_csv( '../new_data/CPED_A_with_role_1.tsv', sep = '\\t')\n",
    "df_data.head()"
   ]
  },
  {
   "cell_type": "code",
   "execution_count": 2,
   "id": "2c0020fd",
   "metadata": {},
   "outputs": [
    {
     "name": "stdout",
     "output_type": "stream",
     "text": [
      "Downloading and preparing dataset json/default to /home/wenzhy/.cache/huggingface/datasets/json/default-b2f9f23a3df52b46/0.0.0/0f7e3662623656454fcd2b650f34e886a7db4b9104504885bd462096cc7a9f51...\n"
     ]
    },
    {
     "data": {
      "application/vnd.jupyter.widget-view+json": {
       "model_id": "4aa5167605f443ce9df659e64bcdacee",
       "version_major": 2,
       "version_minor": 0
      },
      "text/plain": [
       "Downloading data files:   0%|          | 0/1 [00:00<?, ?it/s]"
      ]
     },
     "metadata": {},
     "output_type": "display_data"
    },
    {
     "data": {
      "application/vnd.jupyter.widget-view+json": {
       "model_id": "446325b0cdf34b73b536c5d051596fe1",
       "version_major": 2,
       "version_minor": 0
      },
      "text/plain": [
       "Extracting data files:   0%|          | 0/1 [00:00<?, ?it/s]"
      ]
     },
     "metadata": {},
     "output_type": "display_data"
    },
    {
     "data": {
      "application/vnd.jupyter.widget-view+json": {
       "model_id": "5712aad95132488a8e970a61409a5e1d",
       "version_major": 2,
       "version_minor": 0
      },
      "text/plain": [
       "Generating train split: 0 examples [00:00, ? examples/s]"
      ]
     },
     "metadata": {},
     "output_type": "display_data"
    },
    {
     "name": "stdout",
     "output_type": "stream",
     "text": [
      "Dataset json downloaded and prepared to /home/wenzhy/.cache/huggingface/datasets/json/default-b2f9f23a3df52b46/0.0.0/0f7e3662623656454fcd2b650f34e886a7db4b9104504885bd462096cc7a9f51. Subsequent calls will reuse this data.\n"
     ]
    },
    {
     "data": {
      "application/vnd.jupyter.widget-view+json": {
       "model_id": "8a8bef5f38f14b1eb1711c93a1c6e92a",
       "version_major": 2,
       "version_minor": 0
      },
      "text/plain": [
       "  0%|          | 0/1 [00:00<?, ?it/s]"
      ]
     },
     "metadata": {},
     "output_type": "display_data"
    },
    {
     "data": {
      "text/plain": [
       "DatasetDict({\n",
       "    train: Dataset({\n",
       "        features: ['affective_prompt', 'personality_description', 'labels'],\n",
       "        num_rows: 10611\n",
       "    })\n",
       "    validation: Dataset({\n",
       "        features: ['affective_prompt', 'personality_description', 'labels'],\n",
       "        num_rows: 1326\n",
       "    })\n",
       "    test: Dataset({\n",
       "        features: ['affective_prompt', 'personality_description', 'labels'],\n",
       "        num_rows: 1327\n",
       "    })\n",
       "})"
      ]
     },
     "execution_count": 2,
     "metadata": {},
     "output_type": "execute_result"
    }
   ],
   "source": [
    "def load_data(tsv_file):\n",
    "    df = pd.read_csv(tsv_file, sep='\\t')\n",
    "    data_path = '../data/tmp.jsonl'\n",
    "    json_data = df[['affective_prompt', 'personality_description', 'labels']].to_dict(orient=\"records\")\n",
    "    with open(data_path, 'w') as outfile:\n",
    "        for row in json_data:\n",
    "            json.dump(row, outfile)\n",
    "            outfile.write('\\n')\n",
    "\n",
    "    class_names = ['no', 'yes']\n",
    "    features = Features({'affective_prompt': Value('string'), 'personality_description': Value('string'), 'labels': ClassLabel(names=class_names)})\n",
    "    dataset_dict = load_dataset(\"json\", data_files=data_path, features=features)\n",
    "\n",
    "    tmp_dict = dataset_dict['train'].train_test_split(test_size=0.2, shuffle=True, seed=SEED)\n",
    "    train_dataset, remaining_dataset = tmp_dict['train'], tmp_dict['test']\n",
    "    tmp_dict = remaining_dataset.train_test_split(test_size=0.5, shuffle=True, seed=SEED)\n",
    "    valid_dataset, test_dataset = tmp_dict['train'], tmp_dict['test']\n",
    "    dataset_dict = DatasetDict({\n",
    "        'train': train_dataset,\n",
    "        'validation': valid_dataset,\n",
    "        'test': test_dataset\n",
    "    })\n",
    "    return dataset_dict\n",
    "\n",
    "tsv_file = '../new_data/CPED_A_with_role_1.tsv'\n",
    "dataset_dict = load_data(tsv_file)\n",
    "dataset_dict"
   ]
  },
  {
   "cell_type": "code",
   "execution_count": 3,
   "id": "4832c536",
   "metadata": {},
   "outputs": [
    {
     "data": {
      "text/plain": [
       "DatasetDict({\n",
       "    train: Dataset({\n",
       "        features: ['affective_prompt', 'personality_description', 'labels'],\n",
       "        num_rows: 10611\n",
       "    })\n",
       "    validation: Dataset({\n",
       "        features: ['affective_prompt', 'personality_description', 'labels'],\n",
       "        num_rows: 1326\n",
       "    })\n",
       "    test: Dataset({\n",
       "        features: ['affective_prompt', 'personality_description', 'labels'],\n",
       "        num_rows: 1327\n",
       "    })\n",
       "})"
      ]
     },
     "execution_count": 3,
     "metadata": {},
     "output_type": "execute_result"
    }
   ],
   "source": [
    "dataset_dict"
   ]
  },
  {
   "cell_type": "code",
   "execution_count": 4,
   "id": "548776d9",
   "metadata": {},
   "outputs": [
    {
     "name": "stdout",
     "output_type": "stream",
     "text": [
      "{\n",
      "  \"guid\": 0,\n",
      "  \"label\": 0,\n",
      "  \"meta\": {},\n",
      "  \"text_a\": \"The emotion of Speaker is initially neutral, the emotion of others is neutral, Speaker respond with neutral, Speaker respond with neutral, the emotion of others is neutral, Speaker respond with neutral, the emotion of others is happy, Speaker respond with neutral, the emotion of others is happy, Speaker respond with neutral, the emotion of others is fear, \",\n",
      "  \"text_b\": \"Speaker is friendly, cooperative, empathetic, and compassionate, often prioritizing harmonious relationships and the well-being of others.\",\n",
      "  \"tgt_text\": null\n",
      "}\n",
      "\n"
     ]
    }
   ],
   "source": [
    "dataset = {}\n",
    "\n",
    "for split in ['train', 'validation', 'test']:\n",
    "    dataset[split] = []\n",
    "    cnt = 0\n",
    "    for data in dataset_dict[split]:\n",
    "        input_example = InputExample(text_a = data['affective_prompt'], text_b = data['personality_description'], label=int(data['labels']), guid=cnt)\n",
    "        dataset[split].append(input_example)\n",
    "        cnt += 1\n",
    "print(dataset['train'][0])"
   ]
  },
  {
   "cell_type": "code",
   "execution_count": 5,
   "id": "6dc28fb7",
   "metadata": {},
   "outputs": [
    {
     "name": "stdout",
     "output_type": "stream",
     "text": [
      "[[{'text': 'The emotion of Speaker is initially neutral, the emotion of others is neutral, Speaker respond with neutral, Speaker respond with neutral, the emotion of others is neutral, Speaker respond with neutral, the emotion of others is happy, Speaker respond with neutral, the emotion of others is happy, Speaker respond with neutral, the emotion of others is fear, ', 'loss_ids': 0, 'shortenable_ids': 1}, {'text': ' Question:', 'loss_ids': 0, 'shortenable_ids': 0}, {'text': ' Speaker is friendly, cooperative, empathetic, and compassionate, often prioritizing harmonious relationships and the well-being of others.', 'loss_ids': 0, 'shortenable_ids': 1}, {'text': '? Is it correct?', 'loss_ids': 0, 'shortenable_ids': 0}, {'text': '<mask>', 'loss_ids': 1, 'shortenable_ids': 0}, {'text': '.', 'loss_ids': 0, 'shortenable_ids': 0}], {'guid': 0, 'label': 0}]\n"
     ]
    },
    {
     "name": "stderr",
     "output_type": "stream",
     "text": [
      "/home/wenzhy/wenzhy/ENTER/envs/wen/lib/python3.9/site-packages/transformers/models/t5/tokenization_t5.py:163: FutureWarning: This tokenizer was incorrectly instantiated with a model max length of 512 which will be corrected in Transformers v5.\n",
      "For now, this behavior is kept to avoid breaking backwards compatibility when padding/encoding with `truncation is True`.\n",
      "- Be aware that you SHOULD NOT rely on t5-base automatically truncating your input to 512 when padding/encoding.\n",
      "- If you want to encode/pad to sequences longer than 512 you can either instantiate this tokenizer with `model_max_length` or pass `max_length` when encoding/padding.\n",
      "- To avoid this warning, please instantiate this tokenizer with `model_max_length` set to your preferred value.\n",
      "  warnings.warn(\n"
     ]
    }
   ],
   "source": [
    "from openprompt.plms import load_plm\n",
    "plm, tokenizer, model_config, WrapperClass = load_plm(\"t5\", \"t5-base\")\n",
    "\n",
    "from openprompt.prompts import ManualTemplate\n",
    "template_text = '{\"placeholder\":\"text_a\"} Question: {\"placeholder\":\"text_b\"}? Is it correct? {\"mask\"}.'\n",
    "mytemplate = ManualTemplate(tokenizer=tokenizer, text=template_text)\n",
    "\n",
    "# To better understand how does the template wrap the example, we visualize one instance.\n",
    "\n",
    "wrapped_example = mytemplate.wrap_one_example(dataset['train'][0])\n",
    "print(wrapped_example)"
   ]
  },
  {
   "cell_type": "code",
   "execution_count": 6,
   "id": "238955b6",
   "metadata": {},
   "outputs": [
    {
     "name": "stdout",
     "output_type": "stream",
     "text": [
      "{'input_ids': [37, 13868, 13, 16778, 19, 7513, 7163, 6, 8, 13868, 13, 717, 19, 7163, 6, 16778, 3531, 28, 7163, 6, 16778, 3531, 28, 7163, 6, 8, 13868, 13, 717, 19, 7163, 6, 16778, 3531, 28, 7163, 6, 8, 13868, 13, 717, 19, 1095, 6, 16778, 3531, 28, 7163, 6, 8, 13868, 13, 717, 19, 1095, 6, 16778, 3531, 28, 7163, 6, 8, 13868, 13, 717, 19, 2971, 6, 11860, 10, 16778, 19, 2609, 6, 20270, 6, 3, 15, 51, 27826, 6, 11, 21801, 6, 557, 1884, 155, 2610, 29938, 3079, 11, 8, 168, 18, 9032, 13, 717, 5, 3, 58, 27, 7, 34, 2024, 58, 32099, 3, 5, 1, 0, 0, 0, 0, 0, 0, 0, 0, 0, 0, 0, 0, 0, 0, 0, 0, 0, 0, 0], 'attention_mask': [1, 1, 1, 1, 1, 1, 1, 1, 1, 1, 1, 1, 1, 1, 1, 1, 1, 1, 1, 1, 1, 1, 1, 1, 1, 1, 1, 1, 1, 1, 1, 1, 1, 1, 1, 1, 1, 1, 1, 1, 1, 1, 1, 1, 1, 1, 1, 1, 1, 1, 1, 1, 1, 1, 1, 1, 1, 1, 1, 1, 1, 1, 1, 1, 1, 1, 1, 1, 1, 1, 1, 1, 1, 1, 1, 1, 1, 1, 1, 1, 1, 1, 1, 1, 1, 1, 1, 1, 1, 1, 1, 1, 1, 1, 1, 1, 1, 1, 1, 1, 1, 1, 1, 1, 1, 1, 1, 1, 1, 0, 0, 0, 0, 0, 0, 0, 0, 0, 0, 0, 0, 0, 0, 0, 0, 0, 0, 0], 'decoder_input_ids': [0, 32099, 0], 'loss_ids': [0, 1, 0]}\n",
      "['▁The', '▁emotion', '▁of', '▁Speaker', '▁is', '▁initially', '▁neutral', ',', '▁the', '▁emotion', '▁of', '▁others', '▁is', '▁neutral', ',', '▁Speaker', '▁respond', '▁with', '▁neutral', ',', '▁Speaker', '▁respond', '▁with', '▁neutral', ',', '▁the', '▁emotion', '▁of', '▁others', '▁is', '▁neutral', ',', '▁Speaker', '▁respond', '▁with', '▁neutral', ',', '▁the', '▁emotion', '▁of', '▁others', '▁is', '▁happy', ',', '▁Speaker', '▁respond', '▁with', '▁neutral', ',', '▁the', '▁emotion', '▁of', '▁others', '▁is', '▁happy', ',', '▁Speaker', '▁respond', '▁with', '▁neutral', ',', '▁the', '▁emotion', '▁of', '▁others', '▁is', '▁fear', ',', '▁Question', ':', '▁Speaker', '▁is', '▁friendly', ',', '▁cooperative', ',', '▁', 'e', 'm', 'pathetic', ',', '▁and', '▁compassionate', ',', '▁often', '▁prior', 'it', 'izing', '▁harmonious', '▁relationships', '▁and', '▁the', '▁well', '-', 'being', '▁of', '▁others', '.', '▁', '?', '▁I', 's', '▁it', '▁correct', '?', '<extra_id_0>', '▁', '.', '</s>', '<pad>', '<pad>', '<pad>', '<pad>', '<pad>', '<pad>', '<pad>', '<pad>', '<pad>', '<pad>', '<pad>', '<pad>', '<pad>', '<pad>', '<pad>', '<pad>', '<pad>', '<pad>', '<pad>']\n",
      "['<pad>', '<extra_id_0>', '<pad>']\n"
     ]
    }
   ],
   "source": [
    "from openprompt.plms import T5TokenizerWrapper\n",
    "wrapped_t5tokenizer= T5TokenizerWrapper(max_seq_length=128, decoder_max_length=3, tokenizer=tokenizer,truncate_method=\"head\")\n",
    "\n",
    "# You can see what a tokenized example looks like by\n",
    "tokenized_example = wrapped_t5tokenizer.tokenize_one_example(wrapped_example, teacher_forcing=False)\n",
    "print(tokenized_example)\n",
    "print(tokenizer.convert_ids_to_tokens(tokenized_example['input_ids']))\n",
    "print(tokenizer.convert_ids_to_tokens(tokenized_example['decoder_input_ids']))"
   ]
  },
  {
   "cell_type": "code",
   "execution_count": 7,
   "id": "44a3267e",
   "metadata": {},
   "outputs": [],
   "source": [
    "model_inputs = {}\n",
    "for split in ['train', 'validation', 'test']:\n",
    "    model_inputs[split] = []\n",
    "    for sample in dataset[split]:\n",
    "        tokenized_example = wrapped_t5tokenizer.tokenize_one_example(mytemplate.wrap_one_example(sample), teacher_forcing=False)\n",
    "        model_inputs[split].append(tokenized_example)"
   ]
  },
  {
   "cell_type": "code",
   "execution_count": 8,
   "id": "a83ac393",
   "metadata": {},
   "outputs": [
    {
     "name": "stderr",
     "output_type": "stream",
     "text": [
      "tokenizing: 10611it [00:12, 854.91it/s]\n"
     ]
    }
   ],
   "source": [
    "from openprompt import PromptDataLoader\n",
    "\n",
    "train_dataloader = PromptDataLoader(dataset=dataset[\"train\"], template=mytemplate, tokenizer=tokenizer,\n",
    "    tokenizer_wrapper_class=WrapperClass, max_seq_length=256, decoder_max_length=3,\n",
    "    batch_size=4,shuffle=True, teacher_forcing=False, predict_eos_token=False,\n",
    "    truncate_method=\"head\")\n",
    "# next(iter(train_dataloader))\n"
   ]
  },
  {
   "cell_type": "code",
   "execution_count": 9,
   "id": "00ab9e85",
   "metadata": {},
   "outputs": [
    {
     "name": "stdout",
     "output_type": "stream",
     "text": [
      "Parameter containing:\n",
      "tensor([[[ 150]],\n",
      "\n",
      "        [[4273]]])\n",
      "tensor([[-0.8573, -0.5521],\n",
      "        [-0.1179, -2.1964]])\n"
     ]
    }
   ],
   "source": [
    "from openprompt.prompts import ManualVerbalizer\n",
    "import torch\n",
    "\n",
    "# for example the verbalizer contains multiple label words in each class\n",
    "myverbalizer = ManualVerbalizer(tokenizer, num_classes=2,\n",
    "                        label_words=[[\"no\"], [\"yes\"]])\n",
    "\n",
    "print(myverbalizer.label_words_ids)\n",
    "logits = torch.randn(2,len(tokenizer)) # creating a pseudo output from the plm, and\n",
    "print(myverbalizer.process_logits(logits)) # see what the verbalizer do"
   ]
  },
  {
   "cell_type": "code",
   "execution_count": 10,
   "id": "42c99918",
   "metadata": {},
   "outputs": [],
   "source": [
    "from openprompt import PromptForClassification\n",
    "\n",
    "use_cuda = True\n",
    "prompt_model = PromptForClassification(plm=plm,template=mytemplate, verbalizer=myverbalizer, freeze_plm=False)\n",
    "if use_cuda:\n",
    "    prompt_model=  prompt_model.cuda()"
   ]
  },
  {
   "cell_type": "code",
   "execution_count": 11,
   "id": "40a83e3e",
   "metadata": {},
   "outputs": [
    {
     "name": "stderr",
     "output_type": "stream",
     "text": [
      "/home/wenzhy/wenzhy/ENTER/envs/wen/lib/python3.9/site-packages/transformers/optimization.py:306: FutureWarning: This implementation of AdamW is deprecated and will be removed in a future version. Use the PyTorch implementation torch.optim.AdamW instead, or set `no_deprecation_warning=True` to disable this warning\n",
      "  warnings.warn(\n"
     ]
    },
    {
     "name": "stdout",
     "output_type": "stream",
     "text": [
      "Epoch 0, average loss: 0.9072587490081787\n",
      "Epoch 0, average loss: 0.7479881766964408\n",
      "Epoch 0, average loss: 0.7291503080194539\n",
      "Epoch 0, average loss: 0.7233788271909518\n",
      "Epoch 0, average loss: 0.7187242267366073\n",
      "Epoch 0, average loss: 0.7120249651045913\n",
      "Epoch 0, average loss: 0.7087310329079628\n",
      "Epoch 0, average loss: 0.7077140286989362\n",
      "Epoch 0, average loss: 0.7045512320729265\n",
      "Epoch 0, average loss: 0.7038103512709263\n",
      "Epoch 0, average loss: 0.7013836843138207\n",
      "Epoch 0, average loss: 0.6993497412536841\n",
      "Epoch 0, average loss: 0.6981281622897171\n",
      "Epoch 0, average loss: 0.6975735885458791\n",
      "Epoch 0, average loss: 0.6970583703289188\n",
      "Epoch 0, average loss: 0.6963649274962402\n",
      "Epoch 0, average loss: 0.6963506282473474\n",
      "Epoch 0, average loss: 0.6950602769308869\n",
      "Epoch 0, average loss: 0.6944451253286477\n",
      "Epoch 0, average loss: 0.6942146129584964\n",
      "Epoch 0, average loss: 0.6942017395551745\n",
      "Epoch 0, average loss: 0.6939750889176193\n",
      "Epoch 0, average loss: 0.6929506305520584\n",
      "Epoch 0, average loss: 0.6925587599933614\n",
      "Epoch 0, average loss: 0.6926993891770497\n",
      "Epoch 0, average loss: 0.6914692712451914\n",
      "Epoch 0, average loss: 0.6912661541559713\n",
      "Epoch 1, average loss: 0.6844987869262695\n",
      "Epoch 1, average loss: 0.7031032758600572\n",
      "Epoch 1, average loss: 0.6893234143752863\n",
      "Epoch 1, average loss: 0.6880782516981592\n",
      "Epoch 1, average loss: 0.6853931142916134\n",
      "Epoch 1, average loss: 0.6869116603615749\n",
      "Epoch 1, average loss: 0.6869988835531216\n",
      "Epoch 1, average loss: 0.6868756620632617\n",
      "Epoch 1, average loss: 0.6841595739943725\n",
      "Epoch 1, average loss: 0.6846594227985903\n",
      "Epoch 1, average loss: 0.6852284592842152\n",
      "Epoch 1, average loss: 0.6839136950495888\n",
      "Epoch 1, average loss: 0.683270950062501\n",
      "Epoch 1, average loss: 0.6832919543331486\n",
      "Epoch 1, average loss: 0.6837302070966631\n",
      "Epoch 1, average loss: 0.6834992745943298\n",
      "Epoch 1, average loss: 0.683974768766452\n",
      "Epoch 1, average loss: 0.6838096658120284\n",
      "Epoch 1, average loss: 0.6838650355626158\n",
      "Epoch 1, average loss: 0.683788204920154\n",
      "Epoch 1, average loss: 0.6836795609790486\n",
      "Epoch 1, average loss: 0.6835483346067078\n",
      "Epoch 1, average loss: 0.6836151844474211\n",
      "Epoch 1, average loss: 0.6834166863630586\n",
      "Epoch 1, average loss: 0.6827626278706137\n",
      "Epoch 1, average loss: 0.6824282486852316\n",
      "Epoch 1, average loss: 0.6820818042750546\n",
      "Epoch 2, average loss: 0.6546865999698639\n",
      "Epoch 2, average loss: 0.6704413464256361\n",
      "Epoch 2, average loss: 0.6755275916640121\n",
      "Epoch 2, average loss: 0.6692259197203528\n",
      "Epoch 2, average loss: 0.67175035838464\n",
      "Epoch 2, average loss: 0.6725980544470221\n",
      "Epoch 2, average loss: 0.674172853562127\n",
      "Epoch 2, average loss: 0.6744675330626659\n",
      "Epoch 2, average loss: 0.6754087747778381\n",
      "Epoch 2, average loss: 0.6764107788943927\n",
      "Epoch 2, average loss: 0.6765944817941821\n",
      "Epoch 2, average loss: 0.6760338048861377\n",
      "Epoch 2, average loss: 0.676438773084996\n",
      "Epoch 2, average loss: 0.677795455225968\n",
      "Epoch 2, average loss: 0.6784276848980432\n",
      "Epoch 2, average loss: 0.6778919879947299\n",
      "Epoch 2, average loss: 0.6777135541153311\n",
      "Epoch 2, average loss: 0.6769634955568123\n",
      "Epoch 2, average loss: 0.6770950603432184\n",
      "Epoch 2, average loss: 0.6771442913984024\n",
      "Epoch 2, average loss: 0.6766734043439547\n",
      "Epoch 2, average loss: 0.6767099735342129\n",
      "Epoch 2, average loss: 0.6762349916847049\n",
      "Epoch 3, average loss: 0.6731526777890829\n",
      "Epoch 3, average loss: 0.6745325876691742\n",
      "Epoch 3, average loss: 0.6733933491376868\n",
      "Epoch 3, average loss: 0.6729631146742341\n",
      "Epoch 3, average loss: 0.6740475180977119\n",
      "Epoch 3, average loss: 0.6748355598934332\n",
      "Epoch 3, average loss: 0.6735351633856975\n",
      "Epoch 3, average loss: 0.6747025231703452\n",
      "Epoch 3, average loss: 0.6752798849352757\n",
      "Epoch 3, average loss: 0.6747815205000053\n",
      "Epoch 3, average loss: 0.673304354244106\n",
      "Epoch 3, average loss: 0.672773415049851\n",
      "Epoch 3, average loss: 0.6712147944940711\n",
      "Epoch 3, average loss: 0.6714642747500216\n",
      "Epoch 3, average loss: 0.6723124372822183\n",
      "Epoch 3, average loss: 0.6721735976203979\n",
      "Epoch 3, average loss: 0.6722468319776165\n",
      "Epoch 3, average loss: 0.6723199856089676\n",
      "Epoch 3, average loss: 0.6727411330962161\n",
      "Epoch 3, average loss: 0.6726653153638092\n",
      "Epoch 3, average loss: 0.6727483257090101\n",
      "Epoch 4, average loss: 0.6210805773735046\n",
      "Epoch 4, average loss: 0.6673407791291966\n",
      "Epoch 4, average loss: 0.6651829888324926\n",
      "Epoch 4, average loss: 0.6608180699758972\n",
      "Epoch 4, average loss: 0.6623724637488227\n",
      "Epoch 4, average loss: 0.6623518250852942\n",
      "Epoch 4, average loss: 0.6628425505965255\n",
      "Epoch 4, average loss: 0.6632694893243306\n",
      "Epoch 4, average loss: 0.6653643347453001\n",
      "Epoch 4, average loss: 0.6665439813536181\n",
      "Epoch 4, average loss: 0.6657936437103801\n",
      "Epoch 4, average loss: 0.6663112337760181\n",
      "Epoch 4, average loss: 0.6681238534099448\n",
      "Epoch 4, average loss: 0.6689404708128738\n",
      "Epoch 4, average loss: 0.6691958753341615\n",
      "Epoch 4, average loss: 0.6690307619687562\n",
      "Epoch 4, average loss: 0.6692665770147623\n",
      "Epoch 4, average loss: 0.6690417449531768\n",
      "Epoch 4, average loss: 0.6689252570089569\n",
      "Epoch 4, average loss: 0.6692145857901227\n",
      "Epoch 4, average loss: 0.6695320799157812\n",
      "Epoch 4, average loss: 0.6688074976007333\n",
      "Epoch 4, average loss: 0.6694994415888236\n",
      "Epoch 4, average loss: 0.6695465552713641\n",
      "Epoch 4, average loss: 0.6696389073212875\n",
      "Epoch 4, average loss: 0.6697793908113484\n",
      "Epoch 4, average loss: 0.6693941889292089\n",
      "Epoch 5, average loss: 0.6812569200992584\n",
      "Epoch 5, average loss: 0.646723513509713\n",
      "Epoch 5, average loss: 0.6511104750161124\n",
      "Epoch 5, average loss: 0.6560891659449268\n",
      "Epoch 5, average loss: 0.6619927992868186\n",
      "Epoch 5, average loss: 0.6597789264770143\n",
      "Epoch 5, average loss: 0.6587622599348277\n",
      "Epoch 5, average loss: 0.6593372281375434\n",
      "Epoch 5, average loss: 0.6589807705243033\n",
      "Epoch 5, average loss: 0.6618332703930311\n",
      "Epoch 5, average loss: 0.6626635828239476\n",
      "Epoch 5, average loss: 0.6627513265977537\n",
      "Epoch 5, average loss: 0.6642647382621956\n",
      "Epoch 5, average loss: 0.6646759239484638\n",
      "Epoch 5, average loss: 0.6653808794926305\n",
      "Epoch 5, average loss: 0.6660065980313145\n",
      "Epoch 5, average loss: 0.6662265002429857\n",
      "Epoch 5, average loss: 0.6659582411010173\n",
      "Epoch 5, average loss: 0.666361187707703\n",
      "Epoch 5, average loss: 0.6664909338568789\n",
      "Epoch 5, average loss: 0.6658885599849941\n",
      "Epoch 5, average loss: 0.6657354735851742\n",
      "Epoch 5, average loss: 0.6654002531266667\n",
      "Epoch 5, average loss: 0.6654957644479571\n",
      "Epoch 5, average loss: 0.6655471832503089\n",
      "Epoch 5, average loss: 0.6655964302859432\n",
      "Epoch 5, average loss: 0.6653242185540056\n",
      "Epoch 6, average loss: 0.7104603350162506\n",
      "Epoch 6, average loss: 0.6523821970411375\n",
      "Epoch 6, average loss: 0.6510361441881349\n",
      "Epoch 6, average loss: 0.6555636557719565\n",
      "Epoch 6, average loss: 0.6534829887732938\n",
      "Epoch 6, average loss: 0.6542849113266781\n",
      "Epoch 6, average loss: 0.6537428986392544\n",
      "Epoch 6, average loss: 0.6523461011145529\n",
      "Epoch 6, average loss: 0.6540654767258209\n",
      "Epoch 6, average loss: 0.6562798981722072\n",
      "Epoch 6, average loss: 0.658908706939149\n",
      "Epoch 6, average loss: 0.6605677177382467\n",
      "Epoch 6, average loss: 0.6597205297324106\n",
      "Epoch 6, average loss: 0.6604903884655503\n",
      "Epoch 6, average loss: 0.6605218262033014\n",
      "Epoch 6, average loss: 0.6609045643701693\n",
      "Epoch 6, average loss: 0.6600272655301028\n",
      "Epoch 6, average loss: 0.6603806975935657\n",
      "Epoch 6, average loss: 0.6601448836555491\n",
      "Epoch 6, average loss: 0.6592127099304169\n",
      "Epoch 6, average loss: 0.6601386415315318\n",
      "Epoch 6, average loss: 0.6604611946643817\n",
      "Epoch 6, average loss: 0.660744948578249\n",
      "Epoch 6, average loss: 0.6614454361301831\n",
      "Epoch 6, average loss: 0.6612478955575171\n",
      "Epoch 6, average loss: 0.6619772042373387\n",
      "Epoch 6, average loss: 0.6620781253636754\n",
      "Epoch 7, average loss: 0.948670357465744\n",
      "Epoch 7, average loss: 0.6631146809634041\n",
      "Epoch 7, average loss: 0.6632192773689137\n",
      "Epoch 7, average loss: 0.654610666810282\n",
      "Epoch 7, average loss: 0.6535170781078623\n",
      "Epoch 7, average loss: 0.65379553789874\n",
      "Epoch 7, average loss: 0.6552222432983278\n",
      "Epoch 7, average loss: 0.6554605565179786\n",
      "Epoch 7, average loss: 0.6538232534454945\n",
      "Epoch 7, average loss: 0.6545619430008062\n",
      "Epoch 7, average loss: 0.6551943051957798\n",
      "Epoch 7, average loss: 0.6543591208823579\n",
      "Epoch 7, average loss: 0.6543823228451654\n",
      "Epoch 7, average loss: 0.6548475275894831\n",
      "Epoch 7, average loss: 0.6537613347279022\n",
      "Epoch 7, average loss: 0.6543884929343959\n",
      "Epoch 7, average loss: 0.6550890894492765\n"
     ]
    },
    {
     "name": "stdout",
     "output_type": "stream",
     "text": [
      "Epoch 7, average loss: 0.6565353347187737\n",
      "Epoch 7, average loss: 0.6557840156502253\n",
      "Epoch 7, average loss: 0.6559928118023085\n",
      "Epoch 7, average loss: 0.6561078106487667\n",
      "Epoch 7, average loss: 0.6557869559010362\n",
      "Epoch 7, average loss: 0.6557227023805303\n",
      "Epoch 7, average loss: 0.655284848552906\n",
      "Epoch 7, average loss: 0.6561576699237839\n",
      "Epoch 7, average loss: 0.6564231177480768\n",
      "Epoch 7, average loss: 0.65611638693421\n",
      "Epoch 8, average loss: 0.7444735765457153\n",
      "Epoch 8, average loss: 0.6561670750379562\n",
      "Epoch 8, average loss: 0.6447418644876763\n",
      "Epoch 8, average loss: 0.645687034884036\n",
      "Epoch 8, average loss: 0.6431140763249563\n",
      "Epoch 8, average loss: 0.6378784012865735\n",
      "Epoch 8, average loss: 0.6383996579635183\n",
      "Epoch 8, average loss: 0.6395603914631058\n",
      "Epoch 8, average loss: 0.6413290582764476\n",
      "Epoch 8, average loss: 0.6404148774043948\n",
      "Epoch 8, average loss: 0.6417409456121231\n",
      "Epoch 8, average loss: 0.6432329580701631\n",
      "Epoch 8, average loss: 0.6438298875995959\n",
      "Epoch 8, average loss: 0.6456165798294563\n",
      "Epoch 8, average loss: 0.6442401147900566\n",
      "Epoch 8, average loss: 0.6450486203008263\n",
      "Epoch 8, average loss: 0.6454586770836631\n",
      "Epoch 8, average loss: 0.6475308361330828\n",
      "Epoch 8, average loss: 0.6468755509725025\n",
      "Epoch 8, average loss: 0.6470653945433229\n",
      "Epoch 8, average loss: 0.6471266755601623\n",
      "Epoch 8, average loss: 0.6483560422706559\n",
      "Epoch 8, average loss: 0.6492759916697926\n",
      "Epoch 8, average loss: 0.6490263845561174\n",
      "Epoch 8, average loss: 0.6498008212578684\n",
      "Epoch 8, average loss: 0.6502175037976172\n",
      "Epoch 8, average loss: 0.649942129896202\n",
      "Epoch 9, average loss: 0.6887413263320923\n",
      "Epoch 9, average loss: 0.6344839991892085\n",
      "Epoch 9, average loss: 0.6354770467127904\n",
      "Epoch 9, average loss: 0.6367868995232298\n",
      "Epoch 9, average loss: 0.6389388585861643\n",
      "Epoch 9, average loss: 0.6358445633455102\n",
      "Epoch 9, average loss: 0.63570161792527\n",
      "Epoch 9, average loss: 0.6344275772996099\n",
      "Epoch 9, average loss: 0.6359548074497546\n",
      "Epoch 9, average loss: 0.6371799484060503\n",
      "Epoch 9, average loss: 0.6381954007044048\n",
      "Epoch 9, average loss: 0.6382584857421432\n",
      "Epoch 9, average loss: 0.6400032172633486\n",
      "Epoch 9, average loss: 0.6398052787222255\n",
      "Epoch 9, average loss: 0.6397797179630241\n",
      "Epoch 9, average loss: 0.6392779526475584\n",
      "Epoch 9, average loss: 0.6406380322095606\n",
      "Epoch 9, average loss: 0.6398517519725896\n",
      "Epoch 9, average loss: 0.6390886522093571\n",
      "Epoch 9, average loss: 0.6388476436916586\n",
      "Epoch 9, average loss: 0.6383045297134649\n",
      "Epoch 9, average loss: 0.6380774303065607\n",
      "Epoch 9, average loss: 0.638167720697448\n",
      "Epoch 9, average loss: 0.6372366374881241\n",
      "Epoch 9, average loss: 0.6375495600486973\n",
      "Epoch 9, average loss: 0.6373435149995162\n",
      "Epoch 9, average loss: 0.6376365530637481\n"
     ]
    },
    {
     "name": "stderr",
     "output_type": "stream",
     "text": [
      "tokenizing: 1326it [00:01, 844.57it/s]\n"
     ]
    },
    {
     "name": "stdout",
     "output_type": "stream",
     "text": [
      "0.5942684766214178\n"
     ]
    }
   ],
   "source": [
    "from transformers import  AdamW, get_linear_schedule_with_warmup\n",
    "loss_func = torch.nn.CrossEntropyLoss()\n",
    "no_decay = ['bias', 'LayerNorm.weight']\n",
    "# it's always good practice to set no decay to biase and LayerNorm parameters\n",
    "optimizer_grouped_parameters = [\n",
    "    {'params': [p for n, p in prompt_model.named_parameters() if not any(nd in n for nd in no_decay)], 'weight_decay': 0.01},\n",
    "    {'params': [p for n, p in prompt_model.named_parameters() if any(nd in n for nd in no_decay)], 'weight_decay': 0.0}\n",
    "]\n",
    "\n",
    "optimizer = AdamW(optimizer_grouped_parameters, lr=1e-4)\n",
    "\n",
    "for epoch in range(10):\n",
    "    tot_loss = 0\n",
    "    for step, inputs in enumerate(train_dataloader):\n",
    "        if use_cuda:\n",
    "            inputs = inputs.cuda()\n",
    "        logits = prompt_model(inputs)\n",
    "        labels = inputs['label']\n",
    "        loss = loss_func(logits, labels)\n",
    "        loss.backward()\n",
    "        tot_loss += loss.item()\n",
    "        optimizer.step()\n",
    "        optimizer.zero_grad()\n",
    "        if step %100 ==1:\n",
    "            print(\"Epoch {}, average loss: {}\".format(epoch, tot_loss/(step+1)), flush=True)\n",
    "\n",
    "# Evaluate\n",
    "validation_dataloader = PromptDataLoader(dataset=dataset[\"validation\"], template=mytemplate, tokenizer=tokenizer,\n",
    "    tokenizer_wrapper_class=WrapperClass, max_seq_length=256, decoder_max_length=3,\n",
    "    batch_size=4,shuffle=False, teacher_forcing=False, predict_eos_token=False,\n",
    "    truncate_method=\"head\")\n",
    "\n",
    "allpreds = []\n",
    "alllabels = []\n",
    "for step, inputs in enumerate(validation_dataloader):\n",
    "    if use_cuda:\n",
    "        inputs = inputs.cuda()\n",
    "    logits = prompt_model(inputs)\n",
    "    labels = inputs['label']\n",
    "    alllabels.extend(labels.cpu().tolist())\n",
    "    allpreds.extend(torch.argmax(logits, dim=-1).cpu().tolist())\n",
    "\n",
    "acc = sum([int(i==j) for i,j in zip(allpreds, alllabels)])/len(allpreds)\n",
    "print(acc)"
   ]
  }
 ],
 "metadata": {
  "kernelspec": {
   "display_name": "wen",
   "language": "python",
   "name": "wen"
  },
  "language_info": {
   "codemirror_mode": {
    "name": "ipython",
    "version": 3
   },
   "file_extension": ".py",
   "mimetype": "text/x-python",
   "name": "python",
   "nbconvert_exporter": "python",
   "pygments_lexer": "ipython3",
   "version": "3.9.15"
  }
 },
 "nbformat": 4,
 "nbformat_minor": 5
}
