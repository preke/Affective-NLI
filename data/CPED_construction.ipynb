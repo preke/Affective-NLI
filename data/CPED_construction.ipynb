{
 "cells": [
  {
   "cell_type": "code",
   "execution_count": 1,
   "id": "9dd003b1",
   "metadata": {},
   "outputs": [],
   "source": [
    "import pandas as pd"
   ]
  },
  {
   "cell_type": "code",
   "execution_count": 15,
   "id": "0fcd716e",
   "metadata": {},
   "outputs": [],
   "source": [
    "def cped_get_personailty_description(r, p, p_or_n):\n",
    "    character = 'Speaker'\n",
    "    label = r['labels']\n",
    "    key = p+ p_or_n\n",
    "    # if label == 1:\n",
    "    #     key = p+ '_pos'\n",
    "    # else:\n",
    "    #     key = p+ '_neg'\n",
    "    return character + ' ' + personality_description[key]\n",
    "\n",
    "\n",
    "def cped_get_emotion_prompt(r):\n",
    "    dialog_state = eval(r['dialog_state'])\n",
    "    emotions = eval(r['emotions'])\n",
    "    character = 'Speaker'\n",
    "    ans = ''\n",
    "    for i in range(len(dialog_state)):\n",
    "        if i == 0:\n",
    "            if dialog_state[i] == 0:\n",
    "                ans += 'First, the emotion of others is ' + emotions[i] + ', '\n",
    "            elif dialog_state[i] == 1:\n",
    "                ans += 'The emotion of ' + character + ' is initially ' + emotions[i] + ', '\n",
    "        else:\n",
    "            if dialog_state[i] == 0:\n",
    "                ans += 'the emotion of others is ' + emotions[i] + ', '\n",
    "            elif dialog_state[i] == 1:\n",
    "                ans += character + ' respond with ' + emotions[i] + ', '\n",
    "    return ans"
   ]
  },
  {
   "cell_type": "code",
   "execution_count": 3,
   "id": "9d4c6938-02f8-40cd-9cc3-d7a0fc101233",
   "metadata": {},
   "outputs": [],
   "source": [
    "personality_description = {\n",
    "    'A_pos': 'is friendly, cooperative, empathetic, and compassionate, often prioritizing harmonious relationships and the well-being of others.',\n",
    "    'A_neg': 'is confrontational, uncooperative, lacking empathy, and often prioritizing their own needs and desires over the well-being of others.',\n",
    "    'C_pos': 'is organized, responsible, diligent, detail-oriented, and committed to achieving their goals with a strong sense of duty and self-discipline.',\n",
    "    'C_neg': 'is disorganized, careless, impulsive, lacking discipline, and often displaying a disregard for responsibilities and commitments.',\n",
    "    'E_pos': 'is outgoing, sociable, energetic, and thriving in social interactions, often seeking stimulation and enjoying the company of others.',\n",
    "    'E_neg': 'is introverted, reserved, quiet, and often preferring solitude or smaller social settings, conserving energy and finding fulfillment in introspection and reflection.',\n",
    "    'O_pos': 'has curiosity, open-mindedness, creativity, tolerance, emotional expressiveness, and willingness to embrace new experiences and ideas.',\n",
    "    'O_neg': 'is closed-minded, resistant to change, lacking curiosity, intolerant of differences, emotionally guarded, and hesitant to explore new ideas or experiences.',\n",
    "    'N_pos': 'is prone to experiencing negative emotions, such as anxiety, worry, and mood swings, often displaying heightened sensitivity to stress and a tendency towards self-doubt and emotional instability.',\n",
    "    'N_neg': 'is emotionally stable, resilient, and composed, often displaying a calm and balanced demeanor, and having a tendency to handle stress and adversity with ease.'\n",
    "}"
   ]
  },
  {
   "cell_type": "code",
   "execution_count": 19,
   "id": "47fa3410-be70-43e4-94b0-6bde932d9592",
   "metadata": {},
   "outputs": [
    {
     "name": "stdout",
     "output_type": "stream",
     "text": [
      "A ...\n",
      "C ...\n",
      "E ...\n",
      "O ...\n",
      "N ...\n",
      "A ...\n",
      "C ...\n",
      "E ...\n",
      "O ...\n",
      "N ...\n",
      "A ...\n",
      "C ...\n",
      "E ...\n",
      "O ...\n",
      "N ...\n",
      "A ...\n",
      "C ...\n",
      "E ...\n",
      "O ...\n",
      "N ...\n"
     ]
    }
   ],
   "source": [
    "SEED_list = [0,42,3407,1,2,3,4,5,6,7]\n",
    "from sklearn.model_selection import train_test_split\n",
    "\n",
    "for flow_len in [0.25, 0.5, 0.75, 1]:\n",
    "    personality = ['A', 'C', 'E', 'O', 'N']\n",
    "    for p in personality:\n",
    "        print(p, '...')\n",
    "        df = pd.read_csv('CPED_'+p+'_with_role.tsv', sep='\\t')\n",
    "        df_tmp = df\n",
    "        \n",
    "        \n",
    "        df_tmp['pos_personality_description'] = df_tmp.apply(cped_get_personailty_description, p=p, p_or_n='_pos', axis=1)\n",
    "        df_tmp['neg_personality_description'] = df_tmp.apply(cped_get_personailty_description, p=p, p_or_n='_neg', axis=1)\n",
    "    \n",
    "        df_tmp['personality_description'] = df_tmp['pos_personality_description']\n",
    "            \n",
    "        df_tmp['label'] = df_tmp['labels']\n",
    "        df_tmp['nli_label'] = df_tmp['labels']\n",
    "        \n",
    "        df_tmp['affective_prompt'] = df_tmp.apply(cped_get_emotion_prompt, axis=1)\n",
    "        df_tmp['sent'] = df_tmp['origin_sent']\n",
    "        df['sent_and_prompt'] = df['origin_sent'] + df['affective_prompt']\n",
    "\n",
    "        for seed in SEED_list:\n",
    "            train_df, test_df = train_test_split(df_tmp, test_size=0.2, random_state=seed)\n",
    "            valid_df, test_df = train_test_split(test_df, test_size=0.5, random_state=seed)\n",
    "        \n",
    "            train_df.to_csv('CPED/CPED_'+p+'_with_role_'+str(flow_len)+'_'+str(seed)+'_train.tsv', sep='\\t', index=False)\n",
    "            valid_df.to_csv('CPED/CPED_'+p+'_with_role_'+str(flow_len)+'_'+str(seed)+'_valid.tsv', sep='\\t', index=False)\n",
    "            test_df.to_csv('CPED/CPED_'+p+'_with_role_'+str(flow_len)+'_'+str(seed)+'_test.tsv', sep='\\t', index=False)\n",
    "        \n",
    "        # df_tmp.to_csv('CPED_'+p+'_with_role_'+str(flow_len)+'.tsv', sep='\\t', index=False)"
   ]
  }
 ],
 "metadata": {
  "kernelspec": {
   "display_name": "Python 3 (ipykernel)",
   "language": "python",
   "name": "python3"
  },
  "language_info": {
   "codemirror_mode": {
    "name": "ipython",
    "version": 3
   },
   "file_extension": ".py",
   "mimetype": "text/x-python",
   "name": "python",
   "nbconvert_exporter": "python",
   "pygments_lexer": "ipython3",
   "version": "3.12.4"
  }
 },
 "nbformat": 4,
 "nbformat_minor": 5
}
